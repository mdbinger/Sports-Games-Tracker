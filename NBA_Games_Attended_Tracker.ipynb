{
 "cells": [
  {
   "cell_type": "code",
   "execution_count": 8,
   "id": "9cd966ab",
   "metadata": {},
   "outputs": [],
   "source": [
    "# Import needed dependencies\n",
    "import requests\n",
    "import pandas as pd\n",
    "import numpy as np\n",
    "import scipy.stats as stats\n",
    "import matplotlib.pyplot as plt\n",
    "from datetime import date\n",
    "from bs4 import BeautifulSoup, Comment"
   ]
  },
  {
   "cell_type": "code",
   "execution_count": 22,
   "id": "93441351",
   "metadata": {},
   "outputs": [],
   "source": [
    "away_box_score = []\n",
    "home_box_score = []\n",
    "# box_score = []\n",
    "\n",
    "# input URL and use BeautifulSoup to parse through the page\n",
    "url = f'https://www.basketball-reference.com/boxscores/202212190SAC.html'\n",
    "soup = BeautifulSoup(requests.get(url).content, 'html.parser')\n",
    "\n",
    "# Grab the table element that has NBA player statistics\n",
    "away_table = soup.select_one('#div_box-CHO-game-basic') \n",
    "\n",
    "# Grab data from table and put it into the list created above\n",
    "for tr in away_table.select('tr:has(td)'):\n",
    "    tds = [td.get_text(strip=True) for td in tr.select('td')]\n",
    "    away_box_score.append(tds)\n",
    "\n",
    "# Grab the table element that has NBA player statistics\n",
    "home_table = soup.select_one('#div_box-SAC-game-basic') \n",
    "\n",
    "# Grab data from table and put it into the list created above\n",
    "for tr in home_table.select('tr:has(td)'):\n",
    "    tds2 = [td.get_text(strip=True) for td in tr.select('td')]\n",
    "    home_box_score.append(tds2)\n",
    "\n",
    "# # Grab the table element that has NBA player statistics\n",
    "# box_score_table = soup.select_one('#all_line_score')\n",
    "\n",
    "# # Grab data from table and put it into the list created above\n",
    "# for tr in box_score_table.select('tr:has(td)'):\n",
    "#     tds3 = [td.get_text(strip=True) for td in tr.select('td')]\n",
    "#     box_score.append(tds3)\n"
   ]
  },
  {
   "cell_type": "code",
   "execution_count": 26,
   "id": "6a1fc1e0",
   "metadata": {},
   "outputs": [],
   "source": [
    "# Create dataframe for batter statistics\n",
    "away_team_df = pd.DataFrame(away_box_score)\n",
    "\n",
    "# Create an empty list to store dataframe header information\n",
    "away_header_list = []\n",
    "\n",
    "# Grab the table header information to use as column headers in our dataframe\n",
    "for tr in away_table.select('tr:has(th)'):\n",
    "    ths = [th.get_text(strip=True) for th in tr.select('th')]\n",
    "    away_header_list.append(ths)\n",
    "    \n",
    "# Create dataframe for batter statistics\n",
    "home_team_df = pd.DataFrame(home_box_score)\n",
    "\n",
    "# Create an empty list to store dataframe header information\n",
    "home_header_list = []\n",
    "\n",
    "# Grab the table header information to use as column headers in our dataframe\n",
    "for tr in home_table.select('tr:has(th)'):\n",
    "    ths2 = [th.get_text(strip=True) for th in tr.select('th')]\n",
    "    home_header_list.append(ths2)\n",
    "    \n",
    "# # Create dataframe for batter statistics\n",
    "# box_score_df = pd.DataFrame(box_score)\n",
    "\n",
    "# # Create an empty list to store dataframe header information\n",
    "# box_score_list = []\n",
    "\n",
    "# # Grab the table header information to use as column headers in our dataframe\n",
    "# for tr in box_score_table.select('tr:has(th)'):\n",
    "#     ths3 = [th.get_text(strip=True) for th in tr.select('th')]\n",
    "#     box_score_list.append(ths3)"
   ]
  },
  {
   "cell_type": "code",
   "execution_count": 30,
   "id": "b1048056",
   "metadata": {},
   "outputs": [
    {
     "data": {
      "text/plain": [
       "<div class=\"section_content\" id=\"div_box-SAC-game-basic\">\n",
       "<div class=\"table_wrapper\" id=\"all_box-SAC-game-basic\">\n",
       "<div class=\"section_heading assoc_box-SAC-game-basic\" id=\"box-SAC-game-basic_sh\">\n",
       "<span class=\"section_anchor\" data-label=\"Sacramento Kings Basic and Advanced Stats\" id=\"box-SAC-game-basic_link\"></span><h2>Sacramento Kings Basic and Advanced Stats</h2> <div class=\"section_heading_text\">\n",
       "<ul>\n",
       "</ul>\n",
       "</div>\n",
       "</div>\n",
       "<div class=\"table_container\" id=\"div_box-SAC-game-basic\">\n",
       "<table class=\"sortable stats_table\" data-cols-to-freeze=\",1\" id=\"box-SAC-game-basic\">\n",
       "<caption>Sacramento Kings Basic and Advanced Stats Table</caption>\n",
       "<colgroup><col/><col/><col/><col/><col/><col/><col/><col/><col/><col/><col/><col/><col/><col/><col/><col/><col/><col/><col/><col/><col/></colgroup>\n",
       "<thead>\n",
       "<tr class=\"over_header\"><th></th>\n",
       "<th aria-label=\"\" class=\"over_header center\" colspan=\"20\" data-stat=\"header_tmp\">Basic Box Score Stats</th>\n",
       "</tr>\n",
       "<tr>\n",
       "<th aria-label=\"Starters\" class=\"poptip sort_default_asc center\" data-stat=\"player\" scope=\"col\">Starters</th>\n",
       "<th aria-label=\"Minutes Played\" class=\"poptip center\" data-over-header=\"Basic Box Score Stats\" data-stat=\"mp\" data-tip=\"Minutes Played\" scope=\"col\">MP</th>\n",
       "<th aria-label=\"Field Goals\" class=\"poptip center\" data-over-header=\"Basic Box Score Stats\" data-stat=\"fg\" data-tip=\"Field Goals\" scope=\"col\">FG</th>\n",
       "<th aria-label=\"FGA\" class=\"poptip center\" data-over-header=\"Basic Box Score Stats\" data-stat=\"fga\" data-tip=\"Field Goal Attempts\" scope=\"col\">FGA</th>\n",
       "<th aria-label=\"Field Goal Percentage\" class=\"poptip center\" data-over-header=\"Basic Box Score Stats\" data-stat=\"fg_pct\" data-tip=\"Field Goal Percentage\" scope=\"col\">FG%</th>\n",
       "<th aria-label=\"3-Point Field Goals\" class=\"poptip center\" data-over-header=\"Basic Box Score Stats\" data-stat=\"fg3\" data-tip=\"3-Point Field Goals\" scope=\"col\">3P</th>\n",
       "<th aria-label=\"3-Point Field Goal Attempts\" class=\"poptip center\" data-over-header=\"Basic Box Score Stats\" data-stat=\"fg3a\" data-tip=\"3-Point Field Goal Attempts\" scope=\"col\">3PA</th>\n",
       "<th aria-label=\"3-Point Field Goal Percentage\" class=\"poptip center\" data-over-header=\"Basic Box Score Stats\" data-stat=\"fg3_pct\" data-tip=\"3-Point Field Goal Percentage\" scope=\"col\">3P%</th>\n",
       "<th aria-label=\"Free Throws\" class=\"poptip center\" data-over-header=\"Basic Box Score Stats\" data-stat=\"ft\" data-tip=\"Free Throws\" scope=\"col\">FT</th>\n",
       "<th aria-label=\"Free Throw Attempts\" class=\"poptip center\" data-over-header=\"Basic Box Score Stats\" data-stat=\"fta\" data-tip=\"Free Throw Attempts\" scope=\"col\">FTA</th>\n",
       "<th aria-label=\"Free Throw Percentage\" class=\"poptip center\" data-over-header=\"Basic Box Score Stats\" data-stat=\"ft_pct\" data-tip=\"Free Throw Percentage\" scope=\"col\">FT%</th>\n",
       "<th aria-label=\"Offensive Rebounds\" class=\"poptip center\" data-over-header=\"Basic Box Score Stats\" data-stat=\"orb\" data-tip=\"Offensive Rebounds\" scope=\"col\">ORB</th>\n",
       "<th aria-label=\"Defensive Rebounds\" class=\"poptip center\" data-over-header=\"Basic Box Score Stats\" data-stat=\"drb\" data-tip=\"Defensive Rebounds\" scope=\"col\">DRB</th>\n",
       "<th aria-label=\"Total Rebounds\" class=\"poptip center\" data-over-header=\"Basic Box Score Stats\" data-stat=\"trb\" data-tip=\"Total Rebounds\" scope=\"col\">TRB</th>\n",
       "<th aria-label=\"Assists\" class=\"poptip center\" data-over-header=\"Basic Box Score Stats\" data-stat=\"ast\" data-tip=\"Assists\" scope=\"col\">AST</th>\n",
       "<th aria-label=\"Steals\" class=\"poptip center\" data-over-header=\"Basic Box Score Stats\" data-stat=\"stl\" data-tip=\"Steals\" scope=\"col\">STL</th>\n",
       "<th aria-label=\"Blocks\" class=\"poptip center\" data-over-header=\"Basic Box Score Stats\" data-stat=\"blk\" data-tip=\"Blocks\" scope=\"col\">BLK</th>\n",
       "<th aria-label=\"Turnovers\" class=\"poptip center\" data-over-header=\"Basic Box Score Stats\" data-stat=\"tov\" data-tip=\"Turnovers\" scope=\"col\">TOV</th>\n",
       "<th aria-label=\"Personal Fouls\" class=\"poptip center\" data-over-header=\"Basic Box Score Stats\" data-stat=\"pf\" data-tip=\"Personal Fouls\" scope=\"col\">PF</th>\n",
       "<th aria-label=\"Points\" class=\"poptip center\" data-over-header=\"Basic Box Score Stats\" data-stat=\"pts\" data-tip=\"Points\" scope=\"col\">PTS</th>\n",
       "<th aria-label=\"Plus/Minus\" class=\"poptip right\" data-over-header=\"Basic Box Score Stats\" data-stat=\"plus_minus\" data-tip=\"Plus/Minus\" scope=\"col\">+/-</th>\n",
       "</tr>\n",
       "</thead>\n",
       "<tbody><tr><th class=\"left\" csk=\"Sabonis,Domantas\" data-append-csv=\"sabondo01\" data-stat=\"player\" scope=\"row\"><a href=\"/players/s/sabondo01.html\">Domantas Sabonis</a></th><td class=\"right\" csk=\"2444\" data-stat=\"mp\">40:44</td><td class=\"right\" data-stat=\"fg\">12</td><td class=\"right\" data-stat=\"fga\">19</td><td class=\"right\" data-stat=\"fg_pct\">.632</td><td class=\"right\" data-stat=\"fg3\">2</td><td class=\"right\" data-stat=\"fg3a\">2</td><td class=\"right\" data-stat=\"fg3_pct\">1.000</td><td class=\"right\" data-stat=\"ft\">2</td><td class=\"right\" data-stat=\"fta\">5</td><td class=\"right\" data-stat=\"ft_pct\">.400</td><td class=\"right\" data-stat=\"orb\">5</td><td class=\"right\" data-stat=\"drb\">18</td><td class=\"right\" data-stat=\"trb\">23</td><td class=\"right\" data-stat=\"ast\">7</td><td class=\"right\" data-stat=\"stl\">1</td><td class=\"right iz\" data-stat=\"blk\">0</td><td class=\"right\" data-stat=\"tov\">1</td><td class=\"right\" data-stat=\"pf\">4</td><td class=\"right\" data-stat=\"pts\">28</td><td class=\"right\" data-stat=\"plus_minus\">+6</td></tr>\n",
       "<tr><th class=\"left\" csk=\"Fox,De'Aaron\" data-append-csv=\"foxde01\" data-stat=\"player\" scope=\"row\"><a href=\"/players/f/foxde01.html\">De'Aaron Fox</a></th><td class=\"right\" csk=\"2023\" data-stat=\"mp\">33:43</td><td class=\"right\" data-stat=\"fg\">14</td><td class=\"right\" data-stat=\"fga\">25</td><td class=\"right\" data-stat=\"fg_pct\">.560</td><td class=\"right\" data-stat=\"fg3\">2</td><td class=\"right\" data-stat=\"fg3a\">5</td><td class=\"right\" data-stat=\"fg3_pct\">.400</td><td class=\"right\" data-stat=\"ft\">7</td><td class=\"right\" data-stat=\"fta\">9</td><td class=\"right\" data-stat=\"ft_pct\">.778</td><td class=\"right\" data-stat=\"orb\">1</td><td class=\"right\" data-stat=\"drb\">4</td><td class=\"right\" data-stat=\"trb\">5</td><td class=\"right\" data-stat=\"ast\">2</td><td class=\"right iz\" data-stat=\"stl\">0</td><td class=\"right iz\" data-stat=\"blk\">0</td><td class=\"right\" data-stat=\"tov\">2</td><td class=\"right\" data-stat=\"pf\">5</td><td class=\"right\" data-stat=\"pts\">37</td><td class=\"right\" data-stat=\"plus_minus\">-20</td></tr>\n",
       "<tr><th class=\"left\" csk=\"Huerter,Kevin\" data-append-csv=\"huertke01\" data-stat=\"player\" scope=\"row\"><a href=\"/players/h/huertke01.html\">Kevin Huerter</a></th><td class=\"right\" csk=\"1907\" data-stat=\"mp\">31:47</td><td class=\"right\" data-stat=\"fg\">3</td><td class=\"right\" data-stat=\"fga\">11</td><td class=\"right\" data-stat=\"fg_pct\">.273</td><td class=\"right\" data-stat=\"fg3\">3</td><td class=\"right\" data-stat=\"fg3a\">8</td><td class=\"right\" data-stat=\"fg3_pct\">.375</td><td class=\"right iz\" data-stat=\"ft\">0</td><td class=\"right\" data-stat=\"fta\">2</td><td class=\"right iz\" data-stat=\"ft_pct\">.000</td><td class=\"right\" data-stat=\"orb\">1</td><td class=\"right\" data-stat=\"drb\">2</td><td class=\"right\" data-stat=\"trb\">3</td><td class=\"right\" data-stat=\"ast\">1</td><td class=\"right iz\" data-stat=\"stl\">0</td><td class=\"right iz\" data-stat=\"blk\">0</td><td class=\"right iz\" data-stat=\"tov\">0</td><td class=\"right\" data-stat=\"pf\">5</td><td class=\"right\" data-stat=\"pts\">9</td><td class=\"right\" data-stat=\"plus_minus\">+6</td></tr>\n",
       "<tr><th class=\"left\" csk=\"Murray,Keegan\" data-append-csv=\"murrake02\" data-stat=\"player\" scope=\"row\"><a href=\"/players/m/murrake02.html\">Keegan Murray</a></th><td class=\"right\" csk=\"1862\" data-stat=\"mp\">31:02</td><td class=\"right\" data-stat=\"fg\">4</td><td class=\"right\" data-stat=\"fga\">9</td><td class=\"right\" data-stat=\"fg_pct\">.444</td><td class=\"right\" data-stat=\"fg3\">3</td><td class=\"right\" data-stat=\"fg3a\">5</td><td class=\"right\" data-stat=\"fg3_pct\">.600</td><td class=\"right iz\" data-stat=\"ft\">0</td><td class=\"right\" data-stat=\"fta\">2</td><td class=\"right iz\" data-stat=\"ft_pct\">.000</td><td class=\"right iz\" data-stat=\"orb\">0</td><td class=\"right\" data-stat=\"drb\">1</td><td class=\"right\" data-stat=\"trb\">1</td><td class=\"right iz\" data-stat=\"ast\">0</td><td class=\"right\" data-stat=\"stl\">1</td><td class=\"right\" data-stat=\"blk\">1</td><td class=\"right iz\" data-stat=\"tov\">0</td><td class=\"right\" data-stat=\"pf\">4</td><td class=\"right\" data-stat=\"pts\">11</td><td class=\"right\" data-stat=\"plus_minus\">+8</td></tr>\n",
       "<tr><th class=\"left\" csk=\"Barnes,Harrison\" data-append-csv=\"barneha02\" data-stat=\"player\" scope=\"row\"><a href=\"/players/b/barneha02.html\">Harrison Barnes</a></th><td class=\"right\" csk=\"1769\" data-stat=\"mp\">29:29</td><td class=\"right\" data-stat=\"fg\">3</td><td class=\"right\" data-stat=\"fga\">7</td><td class=\"right\" data-stat=\"fg_pct\">.429</td><td class=\"right iz\" data-stat=\"fg3\">0</td><td class=\"right\" data-stat=\"fg3a\">2</td><td class=\"right iz\" data-stat=\"fg3_pct\">.000</td><td class=\"right\" data-stat=\"ft\">5</td><td class=\"right\" data-stat=\"fta\">8</td><td class=\"right\" data-stat=\"ft_pct\">.625</td><td class=\"right iz\" data-stat=\"orb\">0</td><td class=\"right\" data-stat=\"drb\">3</td><td class=\"right\" data-stat=\"trb\">3</td><td class=\"right\" data-stat=\"ast\">3</td><td class=\"right\" data-stat=\"stl\">2</td><td class=\"right iz\" data-stat=\"blk\">0</td><td class=\"right\" data-stat=\"tov\">1</td><td class=\"right\" data-stat=\"pf\">1</td><td class=\"right\" data-stat=\"pts\">11</td><td class=\"right\" data-stat=\"plus_minus\">+2</td></tr>\n",
       "<tr class=\"thead\">\n",
       "<th aria-label=\"Reserves\" class=\"sort_default_asc center\" data-stat=\"player\">Reserves</th>\n",
       "<th aria-label=\"Minutes Played\" class=\"center\" data-stat=\"mp\" data-tip=\"Minutes Played\">MP</th>\n",
       "<th aria-label=\"Field Goals\" class=\"center\" data-stat=\"fg\" data-tip=\"Field Goals\">FG</th>\n",
       "<th aria-label=\"FGA\" class=\"center\" data-stat=\"fga\" data-tip=\"Field Goal Attempts\">FGA</th>\n",
       "<th aria-label=\"Field Goal Percentage\" class=\"center\" data-stat=\"fg_pct\" data-tip=\"Field Goal Percentage\">FG%</th>\n",
       "<th aria-label=\"3-Point Field Goals\" class=\"center\" data-stat=\"fg3\" data-tip=\"3-Point Field Goals\">3P</th>\n",
       "<th aria-label=\"3-Point Field Goal Attempts\" class=\"center\" data-stat=\"fg3a\" data-tip=\"3-Point Field Goal Attempts\">3PA</th>\n",
       "<th aria-label=\"3-Point Field Goal Percentage\" class=\"center\" data-stat=\"fg3_pct\" data-tip=\"3-Point Field Goal Percentage\">3P%</th>\n",
       "<th aria-label=\"Free Throws\" class=\"center\" data-stat=\"ft\" data-tip=\"Free Throws\">FT</th>\n",
       "<th aria-label=\"Free Throw Attempts\" class=\"center\" data-stat=\"fta\" data-tip=\"Free Throw Attempts\">FTA</th>\n",
       "<th aria-label=\"Free Throw Percentage\" class=\"center\" data-stat=\"ft_pct\" data-tip=\"Free Throw Percentage\">FT%</th>\n",
       "<th aria-label=\"Offensive Rebounds\" class=\"center\" data-stat=\"orb\" data-tip=\"Offensive Rebounds\">ORB</th>\n",
       "<th aria-label=\"Defensive Rebounds\" class=\"center\" data-stat=\"drb\" data-tip=\"Defensive Rebounds\">DRB</th>\n",
       "<th aria-label=\"Total Rebounds\" class=\"center\" data-stat=\"trb\" data-tip=\"Total Rebounds\">TRB</th>\n",
       "<th aria-label=\"Assists\" class=\"center\" data-stat=\"ast\" data-tip=\"Assists\">AST</th>\n",
       "<th aria-label=\"Steals\" class=\"center\" data-stat=\"stl\" data-tip=\"Steals\">STL</th>\n",
       "<th aria-label=\"Blocks\" class=\"center\" data-stat=\"blk\" data-tip=\"Blocks\">BLK</th>\n",
       "<th aria-label=\"Turnovers\" class=\"center\" data-stat=\"tov\" data-tip=\"Turnovers\">TOV</th>\n",
       "<th aria-label=\"Personal Fouls\" class=\"center\" data-stat=\"pf\" data-tip=\"Personal Fouls\">PF</th>\n",
       "<th aria-label=\"Points\" class=\"center\" data-stat=\"pts\" data-tip=\"Points\">PTS</th>\n",
       "<th aria-label=\"Plus/Minus\" class=\"right\" data-stat=\"plus_minus\" data-tip=\"Plus/Minus\">+/-</th>\n",
       "</tr>\n",
       "<tr><th class=\"left\" csk=\"Monk,Malik\" data-append-csv=\"monkma01\" data-stat=\"player\" scope=\"row\"><a href=\"/players/m/monkma01.html\">Malik Monk</a></th><td class=\"right\" csk=\"1491\" data-stat=\"mp\">24:51</td><td class=\"right\" data-stat=\"fg\">4</td><td class=\"right\" data-stat=\"fga\">13</td><td class=\"right\" data-stat=\"fg_pct\">.308</td><td class=\"right\" data-stat=\"fg3\">1</td><td class=\"right\" data-stat=\"fg3a\">6</td><td class=\"right\" data-stat=\"fg3_pct\">.167</td><td class=\"right\" data-stat=\"ft\">3</td><td class=\"right\" data-stat=\"fta\">4</td><td class=\"right\" data-stat=\"ft_pct\">.750</td><td class=\"right iz\" data-stat=\"orb\">0</td><td class=\"right\" data-stat=\"drb\">1</td><td class=\"right\" data-stat=\"trb\">1</td><td class=\"right\" data-stat=\"ast\">4</td><td class=\"right iz\" data-stat=\"stl\">0</td><td class=\"right iz\" data-stat=\"blk\">0</td><td class=\"right\" data-stat=\"tov\">2</td><td class=\"right\" data-stat=\"pf\">1</td><td class=\"right\" data-stat=\"pts\">12</td><td class=\"right\" data-stat=\"plus_minus\">-4</td></tr>\n",
       "<tr><th class=\"left\" csk=\"Mitchell,Davion\" data-append-csv=\"mitchda01\" data-stat=\"player\" scope=\"row\"><a href=\"/players/m/mitchda01.html\">Davion Mitchell</a></th><td class=\"right\" csk=\"1264\" data-stat=\"mp\">21:04</td><td class=\"right\" data-stat=\"fg\">3</td><td class=\"right\" data-stat=\"fga\">4</td><td class=\"right\" data-stat=\"fg_pct\">.750</td><td class=\"right\" data-stat=\"fg3\">1</td><td class=\"right\" data-stat=\"fg3a\">2</td><td class=\"right\" data-stat=\"fg3_pct\">.500</td><td class=\"right iz\" data-stat=\"ft\">0</td><td class=\"right iz\" data-stat=\"fta\">0</td><td class=\"right iz\" data-stat=\"ft_pct\"></td><td class=\"right\" data-stat=\"orb\">1</td><td class=\"right iz\" data-stat=\"drb\">0</td><td class=\"right\" data-stat=\"trb\">1</td><td class=\"right\" data-stat=\"ast\">5</td><td class=\"right\" data-stat=\"stl\">1</td><td class=\"right iz\" data-stat=\"blk\">0</td><td class=\"right iz\" data-stat=\"tov\">0</td><td class=\"right iz\" data-stat=\"pf\">0</td><td class=\"right\" data-stat=\"pts\">7</td><td class=\"right\" data-stat=\"plus_minus\">+1</td></tr>\n",
       "<tr><th class=\"left\" csk=\"Davis,Terence\" data-append-csv=\"daviste02\" data-stat=\"player\" scope=\"row\"><a href=\"/players/d/daviste02.html\">Terence Davis</a></th><td class=\"right\" csk=\"883\" data-stat=\"mp\">14:43</td><td class=\"right\" data-stat=\"fg\">1</td><td class=\"right\" data-stat=\"fga\">4</td><td class=\"right\" data-stat=\"fg_pct\">.250</td><td class=\"right iz\" data-stat=\"fg3\">0</td><td class=\"right\" data-stat=\"fg3a\">3</td><td class=\"right iz\" data-stat=\"fg3_pct\">.000</td><td class=\"right iz\" data-stat=\"ft\">0</td><td class=\"right\" data-stat=\"fta\">1</td><td class=\"right iz\" data-stat=\"ft_pct\">.000</td><td class=\"right iz\" data-stat=\"orb\">0</td><td class=\"right iz\" data-stat=\"drb\">0</td><td class=\"right iz\" data-stat=\"trb\">0</td><td class=\"right\" data-stat=\"ast\">1</td><td class=\"right\" data-stat=\"stl\">3</td><td class=\"right iz\" data-stat=\"blk\">0</td><td class=\"right iz\" data-stat=\"tov\">0</td><td class=\"right\" data-stat=\"pf\">1</td><td class=\"right\" data-stat=\"pts\">2</td><td class=\"right\" data-stat=\"plus_minus\">-11</td></tr>\n",
       "<tr><th class=\"left\" csk=\"Queta,Neemias\" data-append-csv=\"quetane01\" data-stat=\"player\" scope=\"row\"><a href=\"/players/q/quetane01.html\">Neemias Queta</a></th><td class=\"right\" csk=\"436\" data-stat=\"mp\">7:16</td><td class=\"right\" data-stat=\"fg\">1</td><td class=\"right\" data-stat=\"fga\">3</td><td class=\"right\" data-stat=\"fg_pct\">.333</td><td class=\"right iz\" data-stat=\"fg3\">0</td><td class=\"right iz\" data-stat=\"fg3a\">0</td><td class=\"right iz\" data-stat=\"fg3_pct\"></td><td class=\"right iz\" data-stat=\"ft\">0</td><td class=\"right iz\" data-stat=\"fta\">0</td><td class=\"right iz\" data-stat=\"ft_pct\"></td><td class=\"right\" data-stat=\"orb\">2</td><td class=\"right\" data-stat=\"drb\">2</td><td class=\"right\" data-stat=\"trb\">4</td><td class=\"right iz\" data-stat=\"ast\">0</td><td class=\"right iz\" data-stat=\"stl\">0</td><td class=\"right\" data-stat=\"blk\">1</td><td class=\"right\" data-stat=\"tov\">1</td><td class=\"right iz\" data-stat=\"pf\">0</td><td class=\"right\" data-stat=\"pts\">2</td><td class=\"right\" data-stat=\"plus_minus\">-12</td></tr>\n",
       "<tr><th class=\"left\" csk=\"Lyles,Trey\" data-append-csv=\"lylestr01\" data-stat=\"player\" scope=\"row\"><a href=\"/players/l/lylestr01.html\">Trey Lyles</a></th><td class=\"right\" csk=\"320\" data-stat=\"mp\">5:20</td><td class=\"right iz\" data-stat=\"fg\">0</td><td class=\"right iz\" data-stat=\"fga\">0</td><td class=\"right iz\" data-stat=\"fg_pct\"></td><td class=\"right iz\" data-stat=\"fg3\">0</td><td class=\"right iz\" data-stat=\"fg3a\">0</td><td class=\"right iz\" data-stat=\"fg3_pct\"></td><td class=\"right iz\" data-stat=\"ft\">0</td><td class=\"right iz\" data-stat=\"fta\">0</td><td class=\"right iz\" data-stat=\"ft_pct\"></td><td class=\"right iz\" data-stat=\"orb\">0</td><td class=\"right\" data-stat=\"drb\">1</td><td class=\"right\" data-stat=\"trb\">1</td><td class=\"right iz\" data-stat=\"ast\">0</td><td class=\"right iz\" data-stat=\"stl\">0</td><td class=\"right iz\" data-stat=\"blk\">0</td><td class=\"right\" data-stat=\"tov\">1</td><td class=\"right\" data-stat=\"pf\">2</td><td class=\"right iz\" data-stat=\"pts\">0</td><td class=\"right\" data-stat=\"plus_minus\">-6</td></tr>\n",
       "<tr><th class=\"left\" csk=\"Dellavedova,Matthew\" data-append-csv=\"dellama01\" data-stat=\"player\" scope=\"row\"><a href=\"/players/d/dellama01.html\">Matthew Dellavedova</a></th><td class=\"italic_text gray_text\" colspan=\"20\" data-stat=\"reason\">Did Not Play</td></tr>\n",
       "<tr><th class=\"left\" csk=\"Metu,Chimezie\" data-append-csv=\"metuch01\" data-stat=\"player\" scope=\"row\"><a href=\"/players/m/metuch01.html\">Chimezie Metu</a></th><td class=\"italic_text gray_text\" colspan=\"20\" data-stat=\"reason\">Did Not Play</td></tr>\n",
       "<tr><th class=\"left\" csk=\"Holmes,Richaun\" data-append-csv=\"holmeri01\" data-stat=\"player\" scope=\"row\"><a href=\"/players/h/holmeri01.html\">Richaun Holmes</a></th><td class=\"italic_text gray_text\" colspan=\"20\" data-stat=\"reason\">Did Not Play</td></tr>\n",
       "<tr><th class=\"left\" csk=\"Okpala,KZ\" data-append-csv=\"okpalkz01\" data-stat=\"player\" scope=\"row\"><a href=\"/players/o/okpalkz01.html\">KZ Okpala</a></th><td class=\"italic_text gray_text\" colspan=\"20\" data-stat=\"reason\">Did Not Play</td></tr>\n",
       "<tr><th class=\"left\" csk=\"Len,Alex\" data-append-csv=\"lenal01\" data-stat=\"player\" scope=\"row\"><a href=\"/players/l/lenal01.html\">Alex Len</a></th><td class=\"italic_text gray_text\" colspan=\"20\" data-stat=\"reason\">Did Not Play</td></tr>\n",
       "</tbody><tfoot><tr><th class=\"left\" data-stat=\"player\" scope=\"row\">Team Totals</th><td class=\"right\" data-stat=\"mp\">240</td><td class=\"right\" data-stat=\"fg\">45</td><td class=\"right\" data-stat=\"fga\">95</td><td class=\"right\" data-stat=\"fg_pct\">.474</td><td class=\"right\" data-stat=\"fg3\">12</td><td class=\"right\" data-stat=\"fg3a\">33</td><td class=\"right\" data-stat=\"fg3_pct\">.364</td><td class=\"right\" data-stat=\"ft\">17</td><td class=\"right\" data-stat=\"fta\">31</td><td class=\"right\" data-stat=\"ft_pct\">.548</td><td class=\"right\" data-stat=\"orb\">10</td><td class=\"right\" data-stat=\"drb\">32</td><td class=\"right\" data-stat=\"trb\">42</td><td class=\"right\" data-stat=\"ast\">23</td><td class=\"right\" data-stat=\"stl\">8</td><td class=\"right\" data-stat=\"blk\">2</td><td class=\"right\" data-stat=\"tov\">8</td><td class=\"right\" data-stat=\"pf\">23</td><td class=\"right\" data-stat=\"pts\">119</td><td class=\"right iz\" data-stat=\"plus_minus\"></td></tr>\n",
       "</tfoot>\n",
       "</table>\n",
       "</div>\n",
       "</div>\n",
       "</div>"
      ]
     },
     "execution_count": 30,
     "metadata": {},
     "output_type": "execute_result"
    }
   ],
   "source": [
    "# home_table\n",
    "# <td class=\"right\" csk=\"2444\" data-stat=\"mp\">40:44</td>\n",
    "# <td class=\"center \" data-stat=\"1\" >39</td>"
   ]
  },
  {
   "cell_type": "code",
   "execution_count": null,
   "id": "bc972853",
   "metadata": {},
   "outputs": [],
   "source": [
    "away_starters = away_header_list[2:7]\n",
    "away_bench = away_header_list[8:-1]\n",
    "away_players = [away_starters,away_bench]\n",
    "\n",
    "home_starters = home_header_list[2:7]\n",
    "home_bench = home_header_list[8:-1]\n",
    "home_players = [home_starters,home_bench]"
   ]
  },
  {
   "cell_type": "code",
   "execution_count": null,
   "id": "c926bd0c",
   "metadata": {},
   "outputs": [],
   "source": [
    "away_stats_df = pd.DataFrame(away_box_score)\n",
    "\n",
    "home_stats_df = pd.DataFrame(home_box_score)"
   ]
  },
  {
   "cell_type": "code",
   "execution_count": null,
   "id": "50036467",
   "metadata": {},
   "outputs": [],
   "source": [
    "away_starters_list = [item for sublist in away_starters for item in sublist]\n",
    "away_bench_list = [item for sublist in away_bench for item in sublist]\n",
    "away_roster = away_starters_list + away_bench_list\n",
    "\n",
    "home_starters_list = [item for sublist in home_starters for item in sublist]\n",
    "home_bench_list = [item for sublist in home_bench for item in sublist]\n",
    "home_roster = home_starters_list + home_bench_list"
   ]
  },
  {
   "cell_type": "code",
   "execution_count": null,
   "id": "b479823c",
   "metadata": {},
   "outputs": [],
   "source": [
    "away_roster.append('Team Totals')\n",
    "away_stats_df.index = away_roster\n",
    "\n",
    "home_roster.append('Team Totals')\n",
    "home_stats_df.index = home_roster"
   ]
  },
  {
   "cell_type": "code",
   "execution_count": null,
   "id": "da3b90bf",
   "metadata": {},
   "outputs": [],
   "source": [
    "column_headers = away_header_list[1]\n",
    "column_headers.remove(\"Starters\")\n",
    "away_stats_df.columns = column_headers\n",
    "home_stats_df.columns = column_headers"
   ]
  },
  {
   "cell_type": "code",
   "execution_count": null,
   "id": "15e133f0",
   "metadata": {},
   "outputs": [],
   "source": [
    "away_stats_df"
   ]
  },
  {
   "cell_type": "code",
   "execution_count": null,
   "id": "dacd4d80",
   "metadata": {},
   "outputs": [],
   "source": [
    "home_stats_df"
   ]
  },
  {
   "cell_type": "code",
   "execution_count": null,
   "id": "ec31cfdc",
   "metadata": {},
   "outputs": [],
   "source": []
  },
  {
   "cell_type": "code",
   "execution_count": null,
   "id": "8ef335fe",
   "metadata": {},
   "outputs": [],
   "source": []
  },
  {
   "cell_type": "code",
   "execution_count": null,
   "id": "582eeaa5",
   "metadata": {},
   "outputs": [],
   "source": []
  },
  {
   "cell_type": "code",
   "execution_count": null,
   "id": "52937662",
   "metadata": {},
   "outputs": [],
   "source": []
  },
  {
   "cell_type": "code",
   "execution_count": null,
   "id": "0181cb69",
   "metadata": {},
   "outputs": [],
   "source": []
  }
 ],
 "metadata": {
  "kernelspec": {
   "display_name": "Python 3 (ipykernel)",
   "language": "python",
   "name": "python3"
  },
  "language_info": {
   "codemirror_mode": {
    "name": "ipython",
    "version": 3
   },
   "file_extension": ".py",
   "mimetype": "text/x-python",
   "name": "python",
   "nbconvert_exporter": "python",
   "pygments_lexer": "ipython3",
   "version": "3.9.7"
  }
 },
 "nbformat": 4,
 "nbformat_minor": 5
}
