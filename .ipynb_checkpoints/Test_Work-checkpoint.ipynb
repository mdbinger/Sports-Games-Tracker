{
 "cells": [
  {
   "cell_type": "code",
   "execution_count": 1,
   "id": "c0d9f7f7",
   "metadata": {},
   "outputs": [],
   "source": [
    "# Import needed dependencies\n",
    "import requests\n",
    "import pandas as pd\n",
    "import numpy as np\n",
    "import scipy.stats as stats\n",
    "import matplotlib.pyplot as plt\n",
    "import re\n",
    "from datetime import date\n",
    "from bs4 import BeautifulSoup, Comment\n",
    "\n",
    "box_score = []\n",
    "\n",
    "# input URL and use BeautifulSoup to parse through the page\n",
    "url = f'https://www.basketball-reference.com/boxscores/202212190SAC.html'\n",
    "soup = BeautifulSoup(requests.get(url).content, 'html.parser')\n",
    "\n",
    "# Grab the table element that has NBA player statistics\n",
    "box_score_table = soup.select_one('#all_line_score')\n",
    "\n",
    "for comment in box_score_table.find_all(text=lambda text: isinstance(text, Comment)):\n",
    "    if comment.find(\"<table \") > 0:\n",
    "        comment_soup = BeautifulSoup(comment, 'html.parser')\n",
    "        table = comment_soup.find(\"table\")\n",
    "        \n",
    "# Grab data from table and put it into the list created above\n",
    "for tr in table.select('tr:has(td)'):\n",
    "    tds3 = [td.get_text(strip=True) for td in tr.select('td')]\n",
    "    box_score.append(tds3)\n"
   ]
  },
  {
   "cell_type": "code",
   "execution_count": 2,
   "id": "060cd247",
   "metadata": {},
   "outputs": [
    {
     "data": {
      "text/plain": [
       "'\\xa0'"
      ]
     },
     "execution_count": 2,
     "metadata": {},
     "output_type": "execute_result"
    }
   ],
   "source": [
    "text = soup.get_text()\n",
    "attendance_string = re.findall(r\"Attendance:\\s+\\d*,\\d*\", text)\n",
    "game_time_string = re.findall(r\"Time of Game:\\s+\\d:\\d*\", text)\n",
    "new_attendance_string = attendance_string[0].strip('([^a-z]xa)')\n",
    "new_game_time_string = game_time_string[0].strip('([^a-z]xa)')\n",
    "attendance_list = list(new_attendance_string)\n",
    "game_time_list = list(new_game_time_string)\n",
    "attendance_list.pop(11)\n",
    "game_time_list.pop(13)"
   ]
  },
  {
   "cell_type": "code",
   "execution_count": 3,
   "id": "6fcf331a",
   "metadata": {},
   "outputs": [],
   "source": [
    "final_attendance_string = \"\".join(attendance_list)\n",
    "final_game_time_sting = \"\".join(game_time_list)"
   ]
  },
  {
   "cell_type": "code",
   "execution_count": 4,
   "id": "eac39f87",
   "metadata": {},
   "outputs": [
    {
     "data": {
      "text/plain": [
       "'Attendance:17,803'"
      ]
     },
     "execution_count": 4,
     "metadata": {},
     "output_type": "execute_result"
    }
   ],
   "source": [
    "final_attendance_string"
   ]
  },
  {
   "cell_type": "code",
   "execution_count": 5,
   "id": "8f6d380b",
   "metadata": {},
   "outputs": [
    {
     "data": {
      "text/plain": [
       "'Time of Game:2:24'"
      ]
     },
     "execution_count": 5,
     "metadata": {},
     "output_type": "execute_result"
    }
   ],
   "source": [
    "final_game_time_sting"
   ]
  },
  {
   "cell_type": "code",
   "execution_count": 6,
   "id": "72e2baac",
   "metadata": {},
   "outputs": [],
   "source": [
    "x = final_attendance_string.split(\":\")\n",
    "y = final_game_time_sting.split(\":\",1)"
   ]
  },
  {
   "cell_type": "code",
   "execution_count": 7,
   "id": "d8081a96",
   "metadata": {},
   "outputs": [
    {
     "data": {
      "text/html": [
       "<div>\n",
       "<style scoped>\n",
       "    .dataframe tbody tr th:only-of-type {\n",
       "        vertical-align: middle;\n",
       "    }\n",
       "\n",
       "    .dataframe tbody tr th {\n",
       "        vertical-align: top;\n",
       "    }\n",
       "\n",
       "    .dataframe thead th {\n",
       "        text-align: right;\n",
       "    }\n",
       "</style>\n",
       "<table border=\"1\" class=\"dataframe\">\n",
       "  <thead>\n",
       "    <tr style=\"text-align: right;\">\n",
       "      <th></th>\n",
       "      <th>Attendance</th>\n",
       "    </tr>\n",
       "  </thead>\n",
       "  <tbody>\n",
       "    <tr>\n",
       "      <th>1</th>\n",
       "      <td>17,803</td>\n",
       "    </tr>\n",
       "  </tbody>\n",
       "</table>\n",
       "</div>"
      ],
      "text/plain": [
       "  Attendance\n",
       "1     17,803"
      ]
     },
     "execution_count": 7,
     "metadata": {},
     "output_type": "execute_result"
    }
   ],
   "source": [
    "attendance_df = pd.DataFrame(x, columns = [x[0]])\n",
    "attendance_df = attendance_df.drop([0])\n",
    "attendance_df"
   ]
  },
  {
   "cell_type": "code",
   "execution_count": 8,
   "id": "ffd4af1d",
   "metadata": {},
   "outputs": [
    {
     "data": {
      "text/html": [
       "<div>\n",
       "<style scoped>\n",
       "    .dataframe tbody tr th:only-of-type {\n",
       "        vertical-align: middle;\n",
       "    }\n",
       "\n",
       "    .dataframe tbody tr th {\n",
       "        vertical-align: top;\n",
       "    }\n",
       "\n",
       "    .dataframe thead th {\n",
       "        text-align: right;\n",
       "    }\n",
       "</style>\n",
       "<table border=\"1\" class=\"dataframe\">\n",
       "  <thead>\n",
       "    <tr style=\"text-align: right;\">\n",
       "      <th></th>\n",
       "      <th>Time of Game</th>\n",
       "    </tr>\n",
       "  </thead>\n",
       "  <tbody>\n",
       "    <tr>\n",
       "      <th>1</th>\n",
       "      <td>2:24</td>\n",
       "    </tr>\n",
       "  </tbody>\n",
       "</table>\n",
       "</div>"
      ],
      "text/plain": [
       "  Time of Game\n",
       "1         2:24"
      ]
     },
     "execution_count": 8,
     "metadata": {},
     "output_type": "execute_result"
    }
   ],
   "source": [
    "game_time_df = pd.DataFrame(y, columns = [y[0]])\n",
    "game_time_df = game_time_df.drop([0])\n",
    "game_time_df"
   ]
  },
  {
   "cell_type": "code",
   "execution_count": null,
   "id": "feab14ad",
   "metadata": {},
   "outputs": [],
   "source": []
  },
  {
   "cell_type": "code",
   "execution_count": null,
   "id": "b61d26ae",
   "metadata": {},
   "outputs": [],
   "source": []
  },
  {
   "cell_type": "code",
   "execution_count": null,
   "id": "35cd894a",
   "metadata": {},
   "outputs": [],
   "source": []
  },
  {
   "cell_type": "code",
   "execution_count": null,
   "id": "5e19bdbe",
   "metadata": {},
   "outputs": [],
   "source": []
  },
  {
   "cell_type": "code",
   "execution_count": null,
   "id": "86bb09d3",
   "metadata": {},
   "outputs": [],
   "source": []
  },
  {
   "cell_type": "code",
   "execution_count": null,
   "id": "991d1dcc",
   "metadata": {},
   "outputs": [],
   "source": []
  },
  {
   "cell_type": "code",
   "execution_count": null,
   "id": "01b2d158",
   "metadata": {},
   "outputs": [],
   "source": []
  },
  {
   "cell_type": "code",
   "execution_count": null,
   "id": "99d32756",
   "metadata": {},
   "outputs": [],
   "source": []
  }
 ],
 "metadata": {
  "kernelspec": {
   "display_name": "Python 3 (ipykernel)",
   "language": "python",
   "name": "python3"
  },
  "language_info": {
   "codemirror_mode": {
    "name": "ipython",
    "version": 3
   },
   "file_extension": ".py",
   "mimetype": "text/x-python",
   "name": "python",
   "nbconvert_exporter": "python",
   "pygments_lexer": "ipython3",
   "version": "3.9.7"
  }
 },
 "nbformat": 4,
 "nbformat_minor": 5
}
