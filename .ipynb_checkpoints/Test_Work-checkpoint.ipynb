{
 "cells": [
  {
   "cell_type": "code",
   "execution_count": 1,
   "id": "c0d9f7f7",
   "metadata": {},
   "outputs": [],
   "source": [
    "# Import needed dependencies\n",
    "import requests\n",
    "import pandas as pd\n",
    "import numpy as np\n",
    "import scipy.stats as stats\n",
    "import matplotlib.pyplot as plt\n",
    "import re\n",
    "from datetime import date\n",
    "from bs4 import BeautifulSoup, Comment\n",
    "\n",
    "box_score = []\n",
    "\n",
    "# input URL and use BeautifulSoup to parse through the page\n",
    "url = f'https://www.basketball-reference.com/boxscores/202212190SAC.html'\n",
    "soup = BeautifulSoup(requests.get(url).content, 'html.parser')\n",
    "\n",
    "# Grab the table element that has NBA player statistics\n",
    "box_score_table = soup.select_one('#all_line_score')\n",
    "\n",
    "for comment in box_score_table.find_all(text=lambda text: isinstance(text, Comment)):\n",
    "    if comment.find(\"<table \") > 0:\n",
    "        comment_soup = BeautifulSoup(comment, 'html.parser')\n",
    "        table = comment_soup.find(\"table\")\n",
    "        \n",
    "# Grab data from table and put it into the list created above\n",
    "for tr in table.select('tr:has(td)'):\n",
    "    tds3 = [td.get_text(strip=True) for td in tr.select('td')]\n",
    "    box_score.append(tds3)\n"
   ]
  },
  {
   "cell_type": "code",
   "execution_count": 2,
   "id": "72e2baac",
   "metadata": {},
   "outputs": [],
   "source": [
    "text = soup.get_text()"
   ]
  },
  {
   "cell_type": "code",
   "execution_count": 3,
   "id": "d8081a96",
   "metadata": {},
   "outputs": [],
   "source": [
    "x = re.findall(r\"Attendance:\\s+\\d*,\\d*\", text)\n",
    "y = re.findall(r\"Time of Game:\\s+\\d:\\d*\", text)"
   ]
  },
  {
   "cell_type": "code",
   "execution_count": 4,
   "id": "060cd247",
   "metadata": {},
   "outputs": [
    {
     "data": {
      "text/plain": [
       "['Attendance:\\xa017,803']"
      ]
     },
     "execution_count": 4,
     "metadata": {},
     "output_type": "execute_result"
    }
   ],
   "source": [
    "x"
   ]
  },
  {
   "cell_type": "code",
   "execution_count": 5,
   "id": "6fcf331a",
   "metadata": {},
   "outputs": [
    {
     "data": {
      "text/plain": [
       "['Time of Game:\\xa02:24']"
      ]
     },
     "execution_count": 5,
     "metadata": {},
     "output_type": "execute_result"
    }
   ],
   "source": [
    "y"
   ]
  },
  {
   "cell_type": "code",
   "execution_count": null,
   "id": "eac39f87",
   "metadata": {},
   "outputs": [],
   "source": []
  },
  {
   "cell_type": "code",
   "execution_count": null,
   "id": "8f6d380b",
   "metadata": {},
   "outputs": [],
   "source": []
  },
  {
   "cell_type": "code",
   "execution_count": null,
   "id": "ffd4af1d",
   "metadata": {},
   "outputs": [],
   "source": []
  },
  {
   "cell_type": "code",
   "execution_count": null,
   "id": "feab14ad",
   "metadata": {},
   "outputs": [],
   "source": []
  },
  {
   "cell_type": "code",
   "execution_count": null,
   "id": "b61d26ae",
   "metadata": {},
   "outputs": [],
   "source": []
  },
  {
   "cell_type": "code",
   "execution_count": null,
   "id": "35cd894a",
   "metadata": {},
   "outputs": [],
   "source": []
  },
  {
   "cell_type": "code",
   "execution_count": null,
   "id": "5e19bdbe",
   "metadata": {},
   "outputs": [],
   "source": []
  },
  {
   "cell_type": "code",
   "execution_count": null,
   "id": "86bb09d3",
   "metadata": {},
   "outputs": [],
   "source": []
  }
 ],
 "metadata": {
  "kernelspec": {
   "display_name": "Python 3 (ipykernel)",
   "language": "python",
   "name": "python3"
  },
  "language_info": {
   "codemirror_mode": {
    "name": "ipython",
    "version": 3
   },
   "file_extension": ".py",
   "mimetype": "text/x-python",
   "name": "python",
   "nbconvert_exporter": "python",
   "pygments_lexer": "ipython3",
   "version": "3.9.7"
  }
 },
 "nbformat": 4,
 "nbformat_minor": 5
}
