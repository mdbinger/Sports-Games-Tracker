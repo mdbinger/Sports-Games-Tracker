{
 "cells": [
  {
   "cell_type": "code",
   "execution_count": 1,
   "id": "c0d9f7f7",
   "metadata": {},
   "outputs": [],
   "source": [
    "# Import needed dependencies\n",
    "import requests\n",
    "import pandas as pd\n",
    "import numpy as np\n",
    "import scipy.stats as stats\n",
    "import matplotlib.pyplot as plt\n",
    "import re\n",
    "from datetime import date\n",
    "from bs4 import BeautifulSoup, Comment\n",
    "\n",
    "box_score = []\n",
    "\n",
    "# input URL and use BeautifulSoup to parse through the page\n",
    "url = f'https://www.basketball-reference.com/boxscores/202212190SAC.html'\n",
    "soup = BeautifulSoup(requests.get(url).content, 'html.parser')\n",
    "\n",
    "# Grab the table element that has NBA player statistics\n",
    "box_score_table = soup.select_one('#all_line_score')\n",
    "\n",
    "for comment in box_score_table.find_all(text=lambda text: isinstance(text, Comment)):\n",
    "    if comment.find(\"<table \") > 0:\n",
    "        comment_soup = BeautifulSoup(comment, 'html.parser')\n",
    "        table = comment_soup.find(\"table\")\n",
    "        \n",
    "# Grab data from table and put it into the list created above\n",
    "for tr in table.select('tr:has(td)'):\n",
    "    tds3 = [td.get_text(strip=True) for td in tr.select('td')]\n",
    "    box_score.append(tds3)\n"
   ]
  },
  {
   "cell_type": "code",
   "execution_count": 2,
   "id": "72e2baac",
   "metadata": {},
   "outputs": [],
   "source": [
    "abc = soup.find_all(name=\"strong\")"
   ]
  },
  {
   "cell_type": "code",
   "execution_count": 3,
   "id": "d8081a96",
   "metadata": {},
   "outputs": [
    {
     "data": {
      "text/plain": [
       "'Time of Game:\\xa0'"
      ]
     },
     "execution_count": 3,
     "metadata": {},
     "output_type": "execute_result"
    }
   ],
   "source": [
    "abc[8].string"
   ]
  },
  {
   "cell_type": "code",
   "execution_count": 4,
   "id": "060cd247",
   "metadata": {},
   "outputs": [
    {
     "name": "stdout",
     "output_type": "stream",
     "text": [
      "Charlotte Hornets at Sacramento Kings Box Score, December 19, 2022\n",
      "\n",
      "Charlotte Hornets\n",
      "\n",
      "\n",
      "Sacramento Kings\n",
      "\n",
      "Inactive: \n",
      "CHO\n",
      "SAC\n",
      "Officials: \n",
      "Attendance: \n",
      "Time of Game: \n",
      "Charlotte Hornets at Sacramento Kings Box Score, December 19, 2022\n",
      "In the News\n",
      "All-Time Greats\n",
      "Active Greats\n",
      "Atlantic\n",
      "Central\n",
      "Southeast\n",
      "Northwest\n",
      "Pacific\n",
      "Southwest\n",
      "Player Finders\n",
      "Team Finders\n",
      "Other Finders\n",
      "Site Last Updated:\n"
     ]
    }
   ],
   "source": [
    "for text in abc:\n",
    "    print(text.get_text())"
   ]
  },
  {
   "cell_type": "code",
   "execution_count": 5,
   "id": "6fcf331a",
   "metadata": {},
   "outputs": [],
   "source": [
    "# import re\n",
    "# from urllib.request import urlopen\n",
    "\n",
    "# url = \"https://www.basketball-reference.com/boxscores/202212190SAC.html\"\n",
    "# page = urlopen(url)\n",
    "# html = page.read().decode(\"utf-8\")\n",
    "\n",
    "# pattern = \"<strong.*?>Attendance: </strong.*?>\"\n",
    "# match_results = re.search(pattern, html, re.IGNORECASE)\n",
    "# title = match_results.group()\n",
    "# title = re.sub(\"<.*?>\", \"\", title) # Remove HTML tags\n",
    "\n",
    "# print(title)"
   ]
  },
  {
   "cell_type": "code",
   "execution_count": 6,
   "id": "eac39f87",
   "metadata": {},
   "outputs": [
    {
     "data": {
      "text/plain": [
       "'Charlotte Hornets at Sacramento Kings Box Score, December 19, 2022'"
      ]
     },
     "execution_count": 6,
     "metadata": {},
     "output_type": "execute_result"
    }
   ],
   "source": [
    "soup.strong.string"
   ]
  },
  {
   "cell_type": "code",
   "execution_count": 7,
   "id": "8f6d380b",
   "metadata": {},
   "outputs": [],
   "source": [
    "text = soup.get_text()"
   ]
  },
  {
   "cell_type": "code",
   "execution_count": 8,
   "id": "ffd4af1d",
   "metadata": {},
   "outputs": [
    {
     "data": {
      "text/plain": [
       "15073"
      ]
     },
     "execution_count": 8,
     "metadata": {},
     "output_type": "execute_result"
    }
   ],
   "source": [
    "text.find(\"17,803\")"
   ]
  },
  {
   "cell_type": "code",
   "execution_count": 59,
   "id": "feab14ad",
   "metadata": {},
   "outputs": [],
   "source": [
    "x = re.findall(r\"Attendance:\\s+\\d*,\\d*\", text)"
   ]
  },
  {
   "cell_type": "code",
   "execution_count": 60,
   "id": "b61d26ae",
   "metadata": {},
   "outputs": [
    {
     "data": {
      "text/plain": [
       "['Attendance:\\xa017,803']"
      ]
     },
     "execution_count": 60,
     "metadata": {},
     "output_type": "execute_result"
    }
   ],
   "source": [
    "x"
   ]
  },
  {
   "cell_type": "code",
   "execution_count": null,
   "id": "35cd894a",
   "metadata": {},
   "outputs": [],
   "source": []
  },
  {
   "cell_type": "code",
   "execution_count": null,
   "id": "5e19bdbe",
   "metadata": {},
   "outputs": [],
   "source": []
  },
  {
   "cell_type": "code",
   "execution_count": null,
   "id": "86bb09d3",
   "metadata": {},
   "outputs": [],
   "source": []
  }
 ],
 "metadata": {
  "kernelspec": {
   "display_name": "Python 3 (ipykernel)",
   "language": "python",
   "name": "python3"
  },
  "language_info": {
   "codemirror_mode": {
    "name": "ipython",
    "version": 3
   },
   "file_extension": ".py",
   "mimetype": "text/x-python",
   "name": "python",
   "nbconvert_exporter": "python",
   "pygments_lexer": "ipython3",
   "version": "3.9.7"
  }
 },
 "nbformat": 4,
 "nbformat_minor": 5
}
