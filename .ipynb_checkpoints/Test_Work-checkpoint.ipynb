{
 "cells": [
  {
   "cell_type": "code",
   "execution_count": 1,
   "id": "c0d9f7f7",
   "metadata": {},
   "outputs": [],
   "source": [
    "# Import needed dependencies\n",
    "import requests\n",
    "import pandas as pd\n",
    "import numpy as np\n",
    "import scipy.stats as stats\n",
    "import matplotlib.pyplot as plt\n",
    "from datetime import date\n",
    "from bs4 import BeautifulSoup, Comment\n",
    "\n",
    "box_score = []\n",
    "\n",
    "# input URL and use BeautifulSoup to parse through the page\n",
    "url = f'https://www.basketball-reference.com/boxscores/202212190SAC.html'\n",
    "soup = BeautifulSoup(requests.get(url).content, 'html.parser')\n",
    "\n",
    "# Grab the table element that has NBA player statistics\n",
    "box_score_table = soup.select_one('#all_line_score')\n",
    "\n",
    "for comment in box_score_table.find_all(text=lambda text: isinstance(text, Comment)):\n",
    "    if comment.find(\"<table \") > 0:\n",
    "        comment_soup = BeautifulSoup(comment, 'html.parser')\n",
    "        table = comment_soup.find(\"table\")\n",
    "        \n",
    "# Grab data from table and put it into the list created above\n",
    "for tr in table.select('tr:has(td)'):\n",
    "    tds3 = [td.get_text(strip=True) for td in tr.select('td')]\n",
    "    box_score.append(tds3)\n"
   ]
  },
  {
   "cell_type": "code",
   "execution_count": 2,
   "id": "72e2baac",
   "metadata": {},
   "outputs": [
    {
     "data": {
      "text/plain": [
       "[['39', '27', '25', '34', '125'], ['30', '33', '29', '27', '119']]"
      ]
     },
     "execution_count": 2,
     "metadata": {},
     "output_type": "execute_result"
    }
   ],
   "source": [
    "box_score"
   ]
  },
  {
   "cell_type": "code",
   "execution_count": 4,
   "id": "d8081a96",
   "metadata": {},
   "outputs": [
    {
     "data": {
      "text/html": [
       "<div>\n",
       "<style scoped>\n",
       "    .dataframe tbody tr th:only-of-type {\n",
       "        vertical-align: middle;\n",
       "    }\n",
       "\n",
       "    .dataframe tbody tr th {\n",
       "        vertical-align: top;\n",
       "    }\n",
       "\n",
       "    .dataframe thead th {\n",
       "        text-align: right;\n",
       "    }\n",
       "</style>\n",
       "<table border=\"1\" class=\"dataframe\">\n",
       "  <thead>\n",
       "    <tr style=\"text-align: right;\">\n",
       "      <th></th>\n",
       "      <th>0</th>\n",
       "      <th>1</th>\n",
       "      <th>2</th>\n",
       "      <th>3</th>\n",
       "      <th>4</th>\n",
       "    </tr>\n",
       "  </thead>\n",
       "  <tbody>\n",
       "    <tr>\n",
       "      <th>0</th>\n",
       "      <td>39</td>\n",
       "      <td>27</td>\n",
       "      <td>25</td>\n",
       "      <td>34</td>\n",
       "      <td>125</td>\n",
       "    </tr>\n",
       "    <tr>\n",
       "      <th>1</th>\n",
       "      <td>30</td>\n",
       "      <td>33</td>\n",
       "      <td>29</td>\n",
       "      <td>27</td>\n",
       "      <td>119</td>\n",
       "    </tr>\n",
       "  </tbody>\n",
       "</table>\n",
       "</div>"
      ],
      "text/plain": [
       "    0   1   2   3    4\n",
       "0  39  27  25  34  125\n",
       "1  30  33  29  27  119"
      ]
     },
     "execution_count": 4,
     "metadata": {},
     "output_type": "execute_result"
    }
   ],
   "source": [
    "box_score_df = pd.DataFrame(box_score)\n",
    "box_score_df"
   ]
  },
  {
   "cell_type": "code",
   "execution_count": null,
   "id": "060cd247",
   "metadata": {},
   "outputs": [],
   "source": []
  },
  {
   "cell_type": "code",
   "execution_count": null,
   "id": "6fcf331a",
   "metadata": {},
   "outputs": [],
   "source": []
  },
  {
   "cell_type": "code",
   "execution_count": null,
   "id": "eac39f87",
   "metadata": {},
   "outputs": [],
   "source": []
  },
  {
   "cell_type": "code",
   "execution_count": null,
   "id": "8f6d380b",
   "metadata": {},
   "outputs": [],
   "source": []
  },
  {
   "cell_type": "code",
   "execution_count": null,
   "id": "ffd4af1d",
   "metadata": {},
   "outputs": [],
   "source": []
  },
  {
   "cell_type": "code",
   "execution_count": 3,
   "id": "feab14ad",
   "metadata": {},
   "outputs": [],
   "source": [
    "# if comment.find(\"<table \") == 63:\n",
    "\n",
    "# if comment.find(\"<table \") == 192:\n",
    "\n",
    "# <table class=\"teams poptip\" data-tip=\"Orlando Magic at Atlanta Hawks\">\n",
    "# <tbody>\n",
    "# <tr class=\"loser\">\n",
    "# <td><a href=\"/teams/ORL/2023.html\">ORL</a></td>\n",
    "# <td class=\"right\">125</td>\n",
    "# <td class=\"right gamelink\">\n",
    "# <a href=\"/boxscores/202212190ATL.html\">F<span class=\"no_mobile\">inal</span></a>\n",
    "# </td>\n",
    "# </tr>\n",
    "# <tr class=\"winner\">\n",
    "# <td><a href=\"/teams/ATL/2023.html\">ATL</a></td>\n",
    "# <td class=\"right\">126</td>\n",
    "# <td class=\"right\"> \n",
    "# \t\t\t</td>\n",
    "# </tr>\n",
    "# </tbody>\n",
    "# </table>"
   ]
  },
  {
   "cell_type": "code",
   "execution_count": null,
   "id": "b61d26ae",
   "metadata": {},
   "outputs": [],
   "source": []
  }
 ],
 "metadata": {
  "kernelspec": {
   "display_name": "Python 3 (ipykernel)",
   "language": "python",
   "name": "python3"
  },
  "language_info": {
   "codemirror_mode": {
    "name": "ipython",
    "version": 3
   },
   "file_extension": ".py",
   "mimetype": "text/x-python",
   "name": "python",
   "nbconvert_exporter": "python",
   "pygments_lexer": "ipython3",
   "version": "3.9.7"
  }
 },
 "nbformat": 4,
 "nbformat_minor": 5
}
